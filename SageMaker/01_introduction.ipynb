{
 "cells": [
  {
   "cell_type": "code",
   "execution_count": null,
   "metadata": {},
   "outputs": [],
   "source": [
    "# Uncomment and run this cell if you're on Colab or Kaggle\n",
    "# !git clone https://github.com/nlp-with-transformers/notebooks.git\n",
    "# %cd notebooks\n",
    "# from install import *\n",
    "# install_requirements()"
   ]
  },
  {
   "cell_type": "code",
   "execution_count": null,
   "metadata": {},
   "outputs": [],
   "source": [
    "#hide\n",
    "#from utils import *\n",
    "#setup_chapter()"
   ]
  },
  {
   "cell_type": "code",
   "execution_count": 1,
   "metadata": {},
   "outputs": [
    {
     "name": "stdout",
     "output_type": "stream",
     "text": [
      "Looking in indexes: https://pypi.org/simple, https://pip.repos.neuron.amazonaws.com\n",
      "Requirement already satisfied: transformers[onnxruntime,optuna,sentencepiece,sklearn,tf,torch,vision]==4.11.3 in /home/ec2-user/anaconda3/envs/pytorch_p37/lib/python3.7/site-packages (4.11.3)\n",
      "Requirement already satisfied: regex!=2019.12.17 in /home/ec2-user/anaconda3/envs/pytorch_p37/lib/python3.7/site-packages (from transformers[onnxruntime,optuna,sentencepiece,sklearn,tf,torch,vision]==4.11.3) (2021.8.3)\n",
      "Requirement already satisfied: numpy>=1.17 in /home/ec2-user/anaconda3/envs/pytorch_p37/lib/python3.7/site-packages (from transformers[onnxruntime,optuna,sentencepiece,sklearn,tf,torch,vision]==4.11.3) (1.21.5)\n",
      "Requirement already satisfied: pyyaml>=5.1 in /home/ec2-user/anaconda3/envs/pytorch_p37/lib/python3.7/site-packages (from transformers[onnxruntime,optuna,sentencepiece,sklearn,tf,torch,vision]==4.11.3) (5.4.1)\n",
      "Requirement already satisfied: sacremoses in /home/ec2-user/anaconda3/envs/pytorch_p37/lib/python3.7/site-packages (from transformers[onnxruntime,optuna,sentencepiece,sklearn,tf,torch,vision]==4.11.3) (0.0.47)\n",
      "Requirement already satisfied: packaging>=20.0 in /home/ec2-user/anaconda3/envs/pytorch_p37/lib/python3.7/site-packages (from transformers[onnxruntime,optuna,sentencepiece,sklearn,tf,torch,vision]==4.11.3) (21.0)\n",
      "Requirement already satisfied: huggingface-hub>=0.0.17 in /home/ec2-user/anaconda3/envs/pytorch_p37/lib/python3.7/site-packages (from transformers[onnxruntime,optuna,sentencepiece,sklearn,tf,torch,vision]==4.11.3) (0.4.0)\n",
      "Requirement already satisfied: filelock in /home/ec2-user/anaconda3/envs/pytorch_p37/lib/python3.7/site-packages (from transformers[onnxruntime,optuna,sentencepiece,sklearn,tf,torch,vision]==4.11.3) (3.0.12)\n",
      "Requirement already satisfied: tokenizers<0.11,>=0.10.1 in /home/ec2-user/anaconda3/envs/pytorch_p37/lib/python3.7/site-packages (from transformers[onnxruntime,optuna,sentencepiece,sklearn,tf,torch,vision]==4.11.3) (0.10.3)\n",
      "Requirement already satisfied: tqdm>=4.27 in /home/ec2-user/anaconda3/envs/pytorch_p37/lib/python3.7/site-packages (from transformers[onnxruntime,optuna,sentencepiece,sklearn,tf,torch,vision]==4.11.3) (4.62.0)\n",
      "Requirement already satisfied: importlib-metadata in /home/ec2-user/anaconda3/envs/pytorch_p37/lib/python3.7/site-packages (from transformers[onnxruntime,optuna,sentencepiece,sklearn,tf,torch,vision]==4.11.3) (4.6.3)\n",
      "Requirement already satisfied: requests in /home/ec2-user/anaconda3/envs/pytorch_p37/lib/python3.7/site-packages (from transformers[onnxruntime,optuna,sentencepiece,sklearn,tf,torch,vision]==4.11.3) (2.26.0)\n",
      "Requirement already satisfied: keras2onnx in /home/ec2-user/anaconda3/envs/pytorch_p37/lib/python3.7/site-packages (from transformers[onnxruntime,optuna,sentencepiece,sklearn,tf,torch,vision]==4.11.3) (1.7.0)\n",
      "Requirement already satisfied: onnxconverter-common in /home/ec2-user/anaconda3/envs/pytorch_p37/lib/python3.7/site-packages (from transformers[onnxruntime,optuna,sentencepiece,sklearn,tf,torch,vision]==4.11.3) (1.9.0)\n",
      "Requirement already satisfied: tensorflow>=2.3 in /home/ec2-user/anaconda3/envs/pytorch_p37/lib/python3.7/site-packages (from transformers[onnxruntime,optuna,sentencepiece,sklearn,tf,torch,vision]==4.11.3) (2.8.0)\n",
      "Requirement already satisfied: onnxruntime-tools>=1.4.2 in /home/ec2-user/anaconda3/envs/pytorch_p37/lib/python3.7/site-packages (from transformers[onnxruntime,optuna,sentencepiece,sklearn,tf,torch,vision]==4.11.3) (1.7.0)\n",
      "Requirement already satisfied: onnxruntime>=1.4.0 in /home/ec2-user/anaconda3/envs/pytorch_p37/lib/python3.7/site-packages (from transformers[onnxruntime,optuna,sentencepiece,sklearn,tf,torch,vision]==4.11.3) (1.10.0)\n",
      "Requirement already satisfied: protobuf in /home/ec2-user/anaconda3/envs/pytorch_p37/lib/python3.7/site-packages (from transformers[onnxruntime,optuna,sentencepiece,sklearn,tf,torch,vision]==4.11.3) (3.19.1)\n",
      "Requirement already satisfied: sentencepiece!=0.1.92,>=0.1.91 in /home/ec2-user/anaconda3/envs/pytorch_p37/lib/python3.7/site-packages (from transformers[onnxruntime,optuna,sentencepiece,sklearn,tf,torch,vision]==4.11.3) (0.1.96)\n",
      "Requirement already satisfied: torch>=1.0 in /home/ec2-user/anaconda3/envs/pytorch_p37/lib/python3.7/site-packages (from transformers[onnxruntime,optuna,sentencepiece,sklearn,tf,torch,vision]==4.11.3) (1.7.1)\n",
      "Requirement already satisfied: optuna in /home/ec2-user/anaconda3/envs/pytorch_p37/lib/python3.7/site-packages (from transformers[onnxruntime,optuna,sentencepiece,sklearn,tf,torch,vision]==4.11.3) (2.10.0)\n",
      "Requirement already satisfied: Pillow in /home/ec2-user/anaconda3/envs/pytorch_p37/lib/python3.7/site-packages (from transformers[onnxruntime,optuna,sentencepiece,sklearn,tf,torch,vision]==4.11.3) (8.4.0)\n",
      "Requirement already satisfied: scikit-learn in /home/ec2-user/anaconda3/envs/pytorch_p37/lib/python3.7/site-packages (from transformers[onnxruntime,optuna,sentencepiece,sklearn,tf,torch,vision]==4.11.3) (0.24.2)\n",
      "Requirement already satisfied: typing-extensions>=3.7.4.3 in /home/ec2-user/anaconda3/envs/pytorch_p37/lib/python3.7/site-packages (from huggingface-hub>=0.0.17->transformers[onnxruntime,optuna,sentencepiece,sklearn,tf,torch,vision]==4.11.3) (3.10.0.0)\n",
      "Requirement already satisfied: flatbuffers in /home/ec2-user/anaconda3/envs/pytorch_p37/lib/python3.7/site-packages (from onnxruntime>=1.4.0->transformers[onnxruntime,optuna,sentencepiece,sklearn,tf,torch,vision]==4.11.3) (2.0)\n",
      "Requirement already satisfied: coloredlogs in /home/ec2-user/anaconda3/envs/pytorch_p37/lib/python3.7/site-packages (from onnxruntime-tools>=1.4.2->transformers[onnxruntime,optuna,sentencepiece,sklearn,tf,torch,vision]==4.11.3) (15.0.1)\n",
      "Requirement already satisfied: onnx in /home/ec2-user/anaconda3/envs/pytorch_p37/lib/python3.7/site-packages (from onnxruntime-tools>=1.4.2->transformers[onnxruntime,optuna,sentencepiece,sklearn,tf,torch,vision]==4.11.3) (1.10.0)\n",
      "Requirement already satisfied: psutil in /home/ec2-user/anaconda3/envs/pytorch_p37/lib/python3.7/site-packages (from onnxruntime-tools>=1.4.2->transformers[onnxruntime,optuna,sentencepiece,sklearn,tf,torch,vision]==4.11.3) (5.8.0)\n",
      "Requirement already satisfied: py3nvml in /home/ec2-user/anaconda3/envs/pytorch_p37/lib/python3.7/site-packages (from onnxruntime-tools>=1.4.2->transformers[onnxruntime,optuna,sentencepiece,sklearn,tf,torch,vision]==4.11.3) (0.2.7)\n",
      "Requirement already satisfied: py-cpuinfo in /home/ec2-user/anaconda3/envs/pytorch_p37/lib/python3.7/site-packages (from onnxruntime-tools>=1.4.2->transformers[onnxruntime,optuna,sentencepiece,sklearn,tf,torch,vision]==4.11.3) (8.0.0)\n",
      "Requirement already satisfied: pyparsing>=2.0.2 in /home/ec2-user/anaconda3/envs/pytorch_p37/lib/python3.7/site-packages (from packaging>=20.0->transformers[onnxruntime,optuna,sentencepiece,sklearn,tf,torch,vision]==4.11.3) (2.4.7)\n",
      "Requirement already satisfied: tensorflow-io-gcs-filesystem>=0.23.1 in /home/ec2-user/anaconda3/envs/pytorch_p37/lib/python3.7/site-packages (from tensorflow>=2.3->transformers[onnxruntime,optuna,sentencepiece,sklearn,tf,torch,vision]==4.11.3) (0.24.0)\n",
      "Requirement already satisfied: grpcio<2.0,>=1.24.3 in /home/ec2-user/anaconda3/envs/pytorch_p37/lib/python3.7/site-packages (from tensorflow>=2.3->transformers[onnxruntime,optuna,sentencepiece,sklearn,tf,torch,vision]==4.11.3) (1.44.0)\n",
      "Requirement already satisfied: google-pasta>=0.1.1 in /home/ec2-user/anaconda3/envs/pytorch_p37/lib/python3.7/site-packages (from tensorflow>=2.3->transformers[onnxruntime,optuna,sentencepiece,sklearn,tf,torch,vision]==4.11.3) (0.2.0)\n",
      "Requirement already satisfied: opt-einsum>=2.3.2 in /home/ec2-user/anaconda3/envs/pytorch_p37/lib/python3.7/site-packages (from tensorflow>=2.3->transformers[onnxruntime,optuna,sentencepiece,sklearn,tf,torch,vision]==4.11.3) (3.3.0)\n",
      "Requirement already satisfied: six>=1.12.0 in /home/ec2-user/anaconda3/envs/pytorch_p37/lib/python3.7/site-packages (from tensorflow>=2.3->transformers[onnxruntime,optuna,sentencepiece,sklearn,tf,torch,vision]==4.11.3) (1.16.0)\n",
      "Requirement already satisfied: libclang>=9.0.1 in /home/ec2-user/anaconda3/envs/pytorch_p37/lib/python3.7/site-packages (from tensorflow>=2.3->transformers[onnxruntime,optuna,sentencepiece,sklearn,tf,torch,vision]==4.11.3) (13.0.0)\n",
      "Requirement already satisfied: tf-estimator-nightly==2.8.0.dev2021122109 in /home/ec2-user/anaconda3/envs/pytorch_p37/lib/python3.7/site-packages (from tensorflow>=2.3->transformers[onnxruntime,optuna,sentencepiece,sklearn,tf,torch,vision]==4.11.3) (2.8.0.dev2021122109)\n",
      "Requirement already satisfied: wrapt>=1.11.0 in /home/ec2-user/anaconda3/envs/pytorch_p37/lib/python3.7/site-packages (from tensorflow>=2.3->transformers[onnxruntime,optuna,sentencepiece,sklearn,tf,torch,vision]==4.11.3) (1.12.1)\n",
      "Requirement already satisfied: absl-py>=0.4.0 in /home/ec2-user/anaconda3/envs/pytorch_p37/lib/python3.7/site-packages (from tensorflow>=2.3->transformers[onnxruntime,optuna,sentencepiece,sklearn,tf,torch,vision]==4.11.3) (1.0.0)\n",
      "Requirement already satisfied: setuptools in /home/ec2-user/anaconda3/envs/pytorch_p37/lib/python3.7/site-packages (from tensorflow>=2.3->transformers[onnxruntime,optuna,sentencepiece,sklearn,tf,torch,vision]==4.11.3) (49.6.0.post20210108)\n",
      "Requirement already satisfied: termcolor>=1.1.0 in /home/ec2-user/anaconda3/envs/pytorch_p37/lib/python3.7/site-packages (from tensorflow>=2.3->transformers[onnxruntime,optuna,sentencepiece,sklearn,tf,torch,vision]==4.11.3) (1.1.0)\n",
      "Requirement already satisfied: h5py>=2.9.0 in /home/ec2-user/anaconda3/envs/pytorch_p37/lib/python3.7/site-packages (from tensorflow>=2.3->transformers[onnxruntime,optuna,sentencepiece,sklearn,tf,torch,vision]==4.11.3) (3.3.0)\n",
      "Requirement already satisfied: keras<2.9,>=2.8.0rc0 in /home/ec2-user/anaconda3/envs/pytorch_p37/lib/python3.7/site-packages (from tensorflow>=2.3->transformers[onnxruntime,optuna,sentencepiece,sklearn,tf,torch,vision]==4.11.3) (2.8.0)\n",
      "Requirement already satisfied: keras-preprocessing>=1.1.1 in /home/ec2-user/anaconda3/envs/pytorch_p37/lib/python3.7/site-packages (from tensorflow>=2.3->transformers[onnxruntime,optuna,sentencepiece,sklearn,tf,torch,vision]==4.11.3) (1.1.2)\n",
      "Requirement already satisfied: astunparse>=1.6.0 in /home/ec2-user/anaconda3/envs/pytorch_p37/lib/python3.7/site-packages (from tensorflow>=2.3->transformers[onnxruntime,optuna,sentencepiece,sklearn,tf,torch,vision]==4.11.3) (1.6.3)\n",
      "Requirement already satisfied: gast>=0.2.1 in /home/ec2-user/anaconda3/envs/pytorch_p37/lib/python3.7/site-packages (from tensorflow>=2.3->transformers[onnxruntime,optuna,sentencepiece,sklearn,tf,torch,vision]==4.11.3) (0.5.3)\n",
      "Requirement already satisfied: tensorboard<2.9,>=2.8 in /home/ec2-user/anaconda3/envs/pytorch_p37/lib/python3.7/site-packages (from tensorflow>=2.3->transformers[onnxruntime,optuna,sentencepiece,sklearn,tf,torch,vision]==4.11.3) (2.8.0)\n"
     ]
    },
    {
     "name": "stdout",
     "output_type": "stream",
     "text": [
      "Requirement already satisfied: zipp>=0.5 in /home/ec2-user/anaconda3/envs/pytorch_p37/lib/python3.7/site-packages (from importlib-metadata->transformers[onnxruntime,optuna,sentencepiece,sklearn,tf,torch,vision]==4.11.3) (3.5.0)\n",
      "Requirement already satisfied: fire in /home/ec2-user/anaconda3/envs/pytorch_p37/lib/python3.7/site-packages (from keras2onnx->transformers[onnxruntime,optuna,sentencepiece,sklearn,tf,torch,vision]==4.11.3) (0.4.0)\n",
      "Requirement already satisfied: colorlog in /home/ec2-user/anaconda3/envs/pytorch_p37/lib/python3.7/site-packages (from optuna->transformers[onnxruntime,optuna,sentencepiece,sklearn,tf,torch,vision]==4.11.3) (6.6.0)\n",
      "Requirement already satisfied: alembic in /home/ec2-user/anaconda3/envs/pytorch_p37/lib/python3.7/site-packages (from optuna->transformers[onnxruntime,optuna,sentencepiece,sklearn,tf,torch,vision]==4.11.3) (1.7.6)\n",
      "Requirement already satisfied: cliff in /home/ec2-user/anaconda3/envs/pytorch_p37/lib/python3.7/site-packages (from optuna->transformers[onnxruntime,optuna,sentencepiece,sklearn,tf,torch,vision]==4.11.3) (3.10.1)\n",
      "Requirement already satisfied: scipy!=1.4.0 in /home/ec2-user/anaconda3/envs/pytorch_p37/lib/python3.7/site-packages (from optuna->transformers[onnxruntime,optuna,sentencepiece,sklearn,tf,torch,vision]==4.11.3) (1.7.1)\n",
      "Requirement already satisfied: cmaes>=0.8.2 in /home/ec2-user/anaconda3/envs/pytorch_p37/lib/python3.7/site-packages (from optuna->transformers[onnxruntime,optuna,sentencepiece,sklearn,tf,torch,vision]==4.11.3) (0.8.2)\n",
      "Requirement already satisfied: sqlalchemy>=1.1.0 in /home/ec2-user/anaconda3/envs/pytorch_p37/lib/python3.7/site-packages (from optuna->transformers[onnxruntime,optuna,sentencepiece,sklearn,tf,torch,vision]==4.11.3) (1.4.22)\n",
      "Requirement already satisfied: idna<4,>=2.5 in /home/ec2-user/anaconda3/envs/pytorch_p37/lib/python3.7/site-packages (from requests->transformers[onnxruntime,optuna,sentencepiece,sklearn,tf,torch,vision]==4.11.3) (3.1)\n",
      "Requirement already satisfied: urllib3<1.27,>=1.21.1 in /home/ec2-user/anaconda3/envs/pytorch_p37/lib/python3.7/site-packages (from requests->transformers[onnxruntime,optuna,sentencepiece,sklearn,tf,torch,vision]==4.11.3) (1.26.6)\n",
      "Requirement already satisfied: charset-normalizer~=2.0.0 in /home/ec2-user/anaconda3/envs/pytorch_p37/lib/python3.7/site-packages (from requests->transformers[onnxruntime,optuna,sentencepiece,sklearn,tf,torch,vision]==4.11.3) (2.0.0)\n",
      "Requirement already satisfied: certifi>=2017.4.17 in /home/ec2-user/anaconda3/envs/pytorch_p37/lib/python3.7/site-packages (from requests->transformers[onnxruntime,optuna,sentencepiece,sklearn,tf,torch,vision]==4.11.3) (2021.10.8)\n",
      "Requirement already satisfied: click in /home/ec2-user/anaconda3/envs/pytorch_p37/lib/python3.7/site-packages (from sacremoses->transformers[onnxruntime,optuna,sentencepiece,sklearn,tf,torch,vision]==4.11.3) (8.0.1)\n",
      "Requirement already satisfied: joblib in /home/ec2-user/anaconda3/envs/pytorch_p37/lib/python3.7/site-packages (from sacremoses->transformers[onnxruntime,optuna,sentencepiece,sklearn,tf,torch,vision]==4.11.3) (1.0.1)\n",
      "Requirement already satisfied: threadpoolctl>=2.0.0 in /home/ec2-user/anaconda3/envs/pytorch_p37/lib/python3.7/site-packages (from scikit-learn->transformers[onnxruntime,optuna,sentencepiece,sklearn,tf,torch,vision]==4.11.3) (2.2.0)\n",
      "Requirement already satisfied: wheel<1.0,>=0.23.0 in /home/ec2-user/anaconda3/envs/pytorch_p37/lib/python3.7/site-packages (from astunparse>=1.6.0->tensorflow>=2.3->transformers[onnxruntime,optuna,sentencepiece,sklearn,tf,torch,vision]==4.11.3) (0.37.0)\n",
      "Requirement already satisfied: cached-property in /home/ec2-user/anaconda3/envs/pytorch_p37/lib/python3.7/site-packages (from h5py>=2.9.0->tensorflow>=2.3->transformers[onnxruntime,optuna,sentencepiece,sklearn,tf,torch,vision]==4.11.3) (1.5.2)\n",
      "Requirement already satisfied: greenlet!=0.4.17 in /home/ec2-user/anaconda3/envs/pytorch_p37/lib/python3.7/site-packages (from sqlalchemy>=1.1.0->optuna->transformers[onnxruntime,optuna,sentencepiece,sklearn,tf,torch,vision]==4.11.3) (1.1.1)\n",
      "Requirement already satisfied: google-auth-oauthlib<0.5,>=0.4.1 in /home/ec2-user/anaconda3/envs/pytorch_p37/lib/python3.7/site-packages (from tensorboard<2.9,>=2.8->tensorflow>=2.3->transformers[onnxruntime,optuna,sentencepiece,sklearn,tf,torch,vision]==4.11.3) (0.4.6)\n",
      "Requirement already satisfied: markdown>=2.6.8 in /home/ec2-user/anaconda3/envs/pytorch_p37/lib/python3.7/site-packages (from tensorboard<2.9,>=2.8->tensorflow>=2.3->transformers[onnxruntime,optuna,sentencepiece,sklearn,tf,torch,vision]==4.11.3) (3.3.6)\n",
      "Requirement already satisfied: tensorboard-data-server<0.7.0,>=0.6.0 in /home/ec2-user/anaconda3/envs/pytorch_p37/lib/python3.7/site-packages (from tensorboard<2.9,>=2.8->tensorflow>=2.3->transformers[onnxruntime,optuna,sentencepiece,sklearn,tf,torch,vision]==4.11.3) (0.6.1)\n",
      "Requirement already satisfied: google-auth<3,>=1.6.3 in /home/ec2-user/anaconda3/envs/pytorch_p37/lib/python3.7/site-packages (from tensorboard<2.9,>=2.8->tensorflow>=2.3->transformers[onnxruntime,optuna,sentencepiece,sklearn,tf,torch,vision]==4.11.3) (2.6.0)\n",
      "Requirement already satisfied: werkzeug>=0.11.15 in /home/ec2-user/anaconda3/envs/pytorch_p37/lib/python3.7/site-packages (from tensorboard<2.9,>=2.8->tensorflow>=2.3->transformers[onnxruntime,optuna,sentencepiece,sklearn,tf,torch,vision]==4.11.3) (2.0.2)\n",
      "Requirement already satisfied: tensorboard-plugin-wit>=1.6.0 in /home/ec2-user/anaconda3/envs/pytorch_p37/lib/python3.7/site-packages (from tensorboard<2.9,>=2.8->tensorflow>=2.3->transformers[onnxruntime,optuna,sentencepiece,sklearn,tf,torch,vision]==4.11.3) (1.8.1)\n",
      "Requirement already satisfied: importlib-resources in /home/ec2-user/anaconda3/envs/pytorch_p37/lib/python3.7/site-packages (from alembic->optuna->transformers[onnxruntime,optuna,sentencepiece,sklearn,tf,torch,vision]==4.11.3) (5.4.0)\n",
      "Requirement already satisfied: Mako in /home/ec2-user/anaconda3/envs/pytorch_p37/lib/python3.7/site-packages (from alembic->optuna->transformers[onnxruntime,optuna,sentencepiece,sklearn,tf,torch,vision]==4.11.3) (1.1.6)\n",
      "Requirement already satisfied: stevedore>=2.0.1 in /home/ec2-user/anaconda3/envs/pytorch_p37/lib/python3.7/site-packages (from cliff->optuna->transformers[onnxruntime,optuna,sentencepiece,sklearn,tf,torch,vision]==4.11.3) (3.5.0)\n",
      "Requirement already satisfied: pbr!=2.1.0,>=2.0.0 in /home/ec2-user/anaconda3/envs/pytorch_p37/lib/python3.7/site-packages (from cliff->optuna->transformers[onnxruntime,optuna,sentencepiece,sklearn,tf,torch,vision]==4.11.3) (5.8.1)\n",
      "Requirement already satisfied: cmd2>=1.0.0 in /home/ec2-user/anaconda3/envs/pytorch_p37/lib/python3.7/site-packages (from cliff->optuna->transformers[onnxruntime,optuna,sentencepiece,sklearn,tf,torch,vision]==4.11.3) (2.4.0)\n",
      "Requirement already satisfied: PrettyTable>=0.7.2 in /home/ec2-user/anaconda3/envs/pytorch_p37/lib/python3.7/site-packages (from cliff->optuna->transformers[onnxruntime,optuna,sentencepiece,sklearn,tf,torch,vision]==4.11.3) (3.1.1)\n",
      "Requirement already satisfied: autopage>=0.4.0 in /home/ec2-user/anaconda3/envs/pytorch_p37/lib/python3.7/site-packages (from cliff->optuna->transformers[onnxruntime,optuna,sentencepiece,sklearn,tf,torch,vision]==4.11.3) (0.5.0)\n",
      "Requirement already satisfied: humanfriendly>=9.1 in /home/ec2-user/anaconda3/envs/pytorch_p37/lib/python3.7/site-packages (from coloredlogs->onnxruntime-tools>=1.4.2->transformers[onnxruntime,optuna,sentencepiece,sklearn,tf,torch,vision]==4.11.3) (10.0)\n",
      "Requirement already satisfied: xmltodict in /home/ec2-user/anaconda3/envs/pytorch_p37/lib/python3.7/site-packages (from py3nvml->onnxruntime-tools>=1.4.2->transformers[onnxruntime,optuna,sentencepiece,sklearn,tf,torch,vision]==4.11.3) (0.12.0)\n",
      "Requirement already satisfied: pyperclip>=1.6 in /home/ec2-user/anaconda3/envs/pytorch_p37/lib/python3.7/site-packages (from cmd2>=1.0.0->cliff->optuna->transformers[onnxruntime,optuna,sentencepiece,sklearn,tf,torch,vision]==4.11.3) (1.8.2)\n",
      "Requirement already satisfied: wcwidth>=0.1.7 in /home/ec2-user/anaconda3/envs/pytorch_p37/lib/python3.7/site-packages (from cmd2>=1.0.0->cliff->optuna->transformers[onnxruntime,optuna,sentencepiece,sklearn,tf,torch,vision]==4.11.3) (0.2.5)\n",
      "Requirement already satisfied: attrs>=16.3.0 in /home/ec2-user/anaconda3/envs/pytorch_p37/lib/python3.7/site-packages (from cmd2>=1.0.0->cliff->optuna->transformers[onnxruntime,optuna,sentencepiece,sklearn,tf,torch,vision]==4.11.3) (21.2.0)\n"
     ]
    },
    {
     "name": "stdout",
     "output_type": "stream",
     "text": [
      "Requirement already satisfied: pyasn1-modules>=0.2.1 in /home/ec2-user/anaconda3/envs/pytorch_p37/lib/python3.7/site-packages (from google-auth<3,>=1.6.3->tensorboard<2.9,>=2.8->tensorflow>=2.3->transformers[onnxruntime,optuna,sentencepiece,sklearn,tf,torch,vision]==4.11.3) (0.2.8)\n",
      "Requirement already satisfied: rsa<5,>=3.1.4 in /home/ec2-user/anaconda3/envs/pytorch_p37/lib/python3.7/site-packages (from google-auth<3,>=1.6.3->tensorboard<2.9,>=2.8->tensorflow>=2.3->transformers[onnxruntime,optuna,sentencepiece,sklearn,tf,torch,vision]==4.11.3) (4.7.2)\n",
      "Requirement already satisfied: cachetools<6.0,>=2.0.0 in /home/ec2-user/anaconda3/envs/pytorch_p37/lib/python3.7/site-packages (from google-auth<3,>=1.6.3->tensorboard<2.9,>=2.8->tensorflow>=2.3->transformers[onnxruntime,optuna,sentencepiece,sklearn,tf,torch,vision]==4.11.3) (5.0.0)\n",
      "Requirement already satisfied: requests-oauthlib>=0.7.0 in /home/ec2-user/anaconda3/envs/pytorch_p37/lib/python3.7/site-packages (from google-auth-oauthlib<0.5,>=0.4.1->tensorboard<2.9,>=2.8->tensorflow>=2.3->transformers[onnxruntime,optuna,sentencepiece,sklearn,tf,torch,vision]==4.11.3) (1.3.1)\n",
      "Requirement already satisfied: MarkupSafe>=0.9.2 in /home/ec2-user/anaconda3/envs/pytorch_p37/lib/python3.7/site-packages (from Mako->alembic->optuna->transformers[onnxruntime,optuna,sentencepiece,sklearn,tf,torch,vision]==4.11.3) (2.0.1)\n",
      "Requirement already satisfied: pyasn1<0.5.0,>=0.4.6 in /home/ec2-user/anaconda3/envs/pytorch_p37/lib/python3.7/site-packages (from pyasn1-modules>=0.2.1->google-auth<3,>=1.6.3->tensorboard<2.9,>=2.8->tensorflow>=2.3->transformers[onnxruntime,optuna,sentencepiece,sklearn,tf,torch,vision]==4.11.3) (0.4.8)\n",
      "Requirement already satisfied: oauthlib>=3.0.0 in /home/ec2-user/anaconda3/envs/pytorch_p37/lib/python3.7/site-packages (from requests-oauthlib>=0.7.0->google-auth-oauthlib<0.5,>=0.4.1->tensorboard<2.9,>=2.8->tensorflow>=2.3->transformers[onnxruntime,optuna,sentencepiece,sklearn,tf,torch,vision]==4.11.3) (3.2.0)\n",
      "\u001b[33mWARNING: You are using pip version 21.3.1; however, version 22.0.3 is available.\n",
      "You should consider upgrading via the '/home/ec2-user/anaconda3/envs/pytorch_p37/bin/python -m pip install --upgrade pip' command.\u001b[0m\n"
     ]
    }
   ],
   "source": [
    "!pip install transformers[tf,torch,sentencepiece,vision,optuna,sklearn,onnxruntime]==4.11.3"
   ]
  },
  {
   "cell_type": "markdown",
   "metadata": {},
   "source": [
    "# Hello Transformers"
   ]
  },
  {
   "cell_type": "markdown",
   "metadata": {},
   "source": [
    "## The Encoder-Decoder Framework"
   ]
  },
  {
   "cell_type": "markdown",
   "metadata": {},
   "source": [
    "## Attention Mechanisms"
   ]
  },
  {
   "cell_type": "markdown",
   "metadata": {},
   "source": [
    "## Transfer Learning in NLP"
   ]
  },
  {
   "cell_type": "markdown",
   "metadata": {},
   "source": [
    "## Hugging Face Transformers: Bridging the Gap"
   ]
  },
  {
   "cell_type": "markdown",
   "metadata": {},
   "source": [
    "## A Tour of Transformer Applications"
   ]
  },
  {
   "cell_type": "code",
   "execution_count": 2,
   "metadata": {},
   "outputs": [],
   "source": [
    "text = \"\"\"Dear Amazon, last week I ordered an Optimus Prime action figure \\\n",
    "from your online store in Germany. Unfortunately, when I opened the package, \\\n",
    "I discovered to my horror that I had been sent an action figure of Megatron \\\n",
    "instead! As a lifelong enemy of the Decepticons, I hope you can understand my \\\n",
    "dilemma. To resolve the issue, I demand an exchange of Megatron for the \\\n",
    "Optimus Prime figure I ordered. Enclosed are copies of my records concerning \\\n",
    "this purchase. I expect to hear from you soon. Sincerely, Bumblebee.\"\"\""
   ]
  },
  {
   "cell_type": "markdown",
   "metadata": {},
   "source": [
    "### Text Classification"
   ]
  },
  {
   "cell_type": "code",
   "execution_count": 3,
   "metadata": {},
   "outputs": [
    {
     "name": "stderr",
     "output_type": "stream",
     "text": [
      "No model was supplied, defaulted to distilbert-base-uncased-finetuned-sst-2-english (https://huggingface.co/distilbert-base-uncased-finetuned-sst-2-english)\n"
     ]
    },
    {
     "data": {
      "application/vnd.jupyter.widget-view+json": {
       "model_id": "94a78d05f84f4c5eb26d51f932102d8c",
       "version_major": 2,
       "version_minor": 0
      },
      "text/plain": [
       "Downloading:   0%|          | 0.00/629 [00:00<?, ?B/s]"
      ]
     },
     "metadata": {},
     "output_type": "display_data"
    },
    {
     "data": {
      "application/vnd.jupyter.widget-view+json": {
       "model_id": "bcd94a48c25145f5b87dd8928b3f0203",
       "version_major": 2,
       "version_minor": 0
      },
      "text/plain": [
       "Downloading:   0%|          | 0.00/255M [00:00<?, ?B/s]"
      ]
     },
     "metadata": {},
     "output_type": "display_data"
    },
    {
     "data": {
      "application/vnd.jupyter.widget-view+json": {
       "model_id": "867271f311d441548214392e44473a2f",
       "version_major": 2,
       "version_minor": 0
      },
      "text/plain": [
       "Downloading:   0%|          | 0.00/48.0 [00:00<?, ?B/s]"
      ]
     },
     "metadata": {},
     "output_type": "display_data"
    },
    {
     "data": {
      "application/vnd.jupyter.widget-view+json": {
       "model_id": "5fec91afe6d340fcaededd3cc1c0c8a7",
       "version_major": 2,
       "version_minor": 0
      },
      "text/plain": [
       "Downloading:   0%|          | 0.00/226k [00:00<?, ?B/s]"
      ]
     },
     "metadata": {},
     "output_type": "display_data"
    }
   ],
   "source": [
    "#hide_output\n",
    "from transformers import pipeline\n",
    "\n",
    "classifier = pipeline(\"text-classification\")"
   ]
  },
  {
   "cell_type": "code",
   "execution_count": 4,
   "metadata": {},
   "outputs": [
    {
     "data": {
      "text/html": [
       "<div>\n",
       "<style scoped>\n",
       "    .dataframe tbody tr th:only-of-type {\n",
       "        vertical-align: middle;\n",
       "    }\n",
       "\n",
       "    .dataframe tbody tr th {\n",
       "        vertical-align: top;\n",
       "    }\n",
       "\n",
       "    .dataframe thead th {\n",
       "        text-align: right;\n",
       "    }\n",
       "</style>\n",
       "<table border=\"1\" class=\"dataframe\">\n",
       "  <thead>\n",
       "    <tr style=\"text-align: right;\">\n",
       "      <th></th>\n",
       "      <th>label</th>\n",
       "      <th>score</th>\n",
       "    </tr>\n",
       "  </thead>\n",
       "  <tbody>\n",
       "    <tr>\n",
       "      <th>0</th>\n",
       "      <td>NEGATIVE</td>\n",
       "      <td>0.901545</td>\n",
       "    </tr>\n",
       "  </tbody>\n",
       "</table>\n",
       "</div>"
      ],
      "text/plain": [
       "      label     score\n",
       "0  NEGATIVE  0.901545"
      ]
     },
     "execution_count": 4,
     "metadata": {},
     "output_type": "execute_result"
    }
   ],
   "source": [
    "import pandas as pd\n",
    "\n",
    "outputs = classifier(text)\n",
    "pd.DataFrame(outputs)    "
   ]
  },
  {
   "cell_type": "markdown",
   "metadata": {},
   "source": [
    "### Named Entity Recognition"
   ]
  },
  {
   "cell_type": "code",
   "execution_count": 5,
   "metadata": {},
   "outputs": [
    {
     "name": "stderr",
     "output_type": "stream",
     "text": [
      "No model was supplied, defaulted to dbmdz/bert-large-cased-finetuned-conll03-english (https://huggingface.co/dbmdz/bert-large-cased-finetuned-conll03-english)\n"
     ]
    },
    {
     "data": {
      "application/vnd.jupyter.widget-view+json": {
       "model_id": "c2eca8b3e5d14ac8911a0551acecd051",
       "version_major": 2,
       "version_minor": 0
      },
      "text/plain": [
       "Downloading:   0%|          | 0.00/998 [00:00<?, ?B/s]"
      ]
     },
     "metadata": {},
     "output_type": "display_data"
    },
    {
     "data": {
      "application/vnd.jupyter.widget-view+json": {
       "model_id": "35cb93ccc0c74d60b67ba8e9bde597be",
       "version_major": 2,
       "version_minor": 0
      },
      "text/plain": [
       "Downloading:   0%|          | 0.00/1.24G [00:00<?, ?B/s]"
      ]
     },
     "metadata": {},
     "output_type": "display_data"
    },
    {
     "data": {
      "application/vnd.jupyter.widget-view+json": {
       "model_id": "d1a57e4e653d4d3fb77342874ce88515",
       "version_major": 2,
       "version_minor": 0
      },
      "text/plain": [
       "Downloading:   0%|          | 0.00/60.0 [00:00<?, ?B/s]"
      ]
     },
     "metadata": {},
     "output_type": "display_data"
    },
    {
     "data": {
      "application/vnd.jupyter.widget-view+json": {
       "model_id": "9dcc0c8c4a0e480e82705273255fc7a2",
       "version_major": 2,
       "version_minor": 0
      },
      "text/plain": [
       "Downloading:   0%|          | 0.00/208k [00:00<?, ?B/s]"
      ]
     },
     "metadata": {},
     "output_type": "display_data"
    },
    {
     "data": {
      "text/html": [
       "<div>\n",
       "<style scoped>\n",
       "    .dataframe tbody tr th:only-of-type {\n",
       "        vertical-align: middle;\n",
       "    }\n",
       "\n",
       "    .dataframe tbody tr th {\n",
       "        vertical-align: top;\n",
       "    }\n",
       "\n",
       "    .dataframe thead th {\n",
       "        text-align: right;\n",
       "    }\n",
       "</style>\n",
       "<table border=\"1\" class=\"dataframe\">\n",
       "  <thead>\n",
       "    <tr style=\"text-align: right;\">\n",
       "      <th></th>\n",
       "      <th>entity_group</th>\n",
       "      <th>score</th>\n",
       "      <th>word</th>\n",
       "      <th>start</th>\n",
       "      <th>end</th>\n",
       "    </tr>\n",
       "  </thead>\n",
       "  <tbody>\n",
       "    <tr>\n",
       "      <th>0</th>\n",
       "      <td>ORG</td>\n",
       "      <td>0.879010</td>\n",
       "      <td>Amazon</td>\n",
       "      <td>5</td>\n",
       "      <td>11</td>\n",
       "    </tr>\n",
       "    <tr>\n",
       "      <th>1</th>\n",
       "      <td>MISC</td>\n",
       "      <td>0.990859</td>\n",
       "      <td>Optimus Prime</td>\n",
       "      <td>36</td>\n",
       "      <td>49</td>\n",
       "    </tr>\n",
       "    <tr>\n",
       "      <th>2</th>\n",
       "      <td>LOC</td>\n",
       "      <td>0.999755</td>\n",
       "      <td>Germany</td>\n",
       "      <td>90</td>\n",
       "      <td>97</td>\n",
       "    </tr>\n",
       "    <tr>\n",
       "      <th>3</th>\n",
       "      <td>MISC</td>\n",
       "      <td>0.556568</td>\n",
       "      <td>Mega</td>\n",
       "      <td>208</td>\n",
       "      <td>212</td>\n",
       "    </tr>\n",
       "    <tr>\n",
       "      <th>4</th>\n",
       "      <td>PER</td>\n",
       "      <td>0.590257</td>\n",
       "      <td>##tron</td>\n",
       "      <td>212</td>\n",
       "      <td>216</td>\n",
       "    </tr>\n",
       "    <tr>\n",
       "      <th>5</th>\n",
       "      <td>ORG</td>\n",
       "      <td>0.669693</td>\n",
       "      <td>Decept</td>\n",
       "      <td>253</td>\n",
       "      <td>259</td>\n",
       "    </tr>\n",
       "    <tr>\n",
       "      <th>6</th>\n",
       "      <td>MISC</td>\n",
       "      <td>0.498350</td>\n",
       "      <td>##icons</td>\n",
       "      <td>259</td>\n",
       "      <td>264</td>\n",
       "    </tr>\n",
       "    <tr>\n",
       "      <th>7</th>\n",
       "      <td>MISC</td>\n",
       "      <td>0.775361</td>\n",
       "      <td>Megatron</td>\n",
       "      <td>350</td>\n",
       "      <td>358</td>\n",
       "    </tr>\n",
       "    <tr>\n",
       "      <th>8</th>\n",
       "      <td>MISC</td>\n",
       "      <td>0.987854</td>\n",
       "      <td>Optimus Prime</td>\n",
       "      <td>367</td>\n",
       "      <td>380</td>\n",
       "    </tr>\n",
       "    <tr>\n",
       "      <th>9</th>\n",
       "      <td>PER</td>\n",
       "      <td>0.812096</td>\n",
       "      <td>Bumblebee</td>\n",
       "      <td>502</td>\n",
       "      <td>511</td>\n",
       "    </tr>\n",
       "  </tbody>\n",
       "</table>\n",
       "</div>"
      ],
      "text/plain": [
       "  entity_group     score           word  start  end\n",
       "0          ORG  0.879010         Amazon      5   11\n",
       "1         MISC  0.990859  Optimus Prime     36   49\n",
       "2          LOC  0.999755        Germany     90   97\n",
       "3         MISC  0.556568           Mega    208  212\n",
       "4          PER  0.590257         ##tron    212  216\n",
       "5          ORG  0.669693         Decept    253  259\n",
       "6         MISC  0.498350        ##icons    259  264\n",
       "7         MISC  0.775361       Megatron    350  358\n",
       "8         MISC  0.987854  Optimus Prime    367  380\n",
       "9          PER  0.812096      Bumblebee    502  511"
      ]
     },
     "execution_count": 5,
     "metadata": {},
     "output_type": "execute_result"
    }
   ],
   "source": [
    "ner_tagger = pipeline(\"ner\", aggregation_strategy=\"simple\")\n",
    "outputs = ner_tagger(text)\n",
    "pd.DataFrame(outputs)    "
   ]
  },
  {
   "cell_type": "markdown",
   "metadata": {},
   "source": [
    "### Question Answering "
   ]
  },
  {
   "cell_type": "code",
   "execution_count": 6,
   "metadata": {},
   "outputs": [
    {
     "name": "stderr",
     "output_type": "stream",
     "text": [
      "No model was supplied, defaulted to distilbert-base-cased-distilled-squad (https://huggingface.co/distilbert-base-cased-distilled-squad)\n"
     ]
    },
    {
     "data": {
      "application/vnd.jupyter.widget-view+json": {
       "model_id": "40329ba79b5f45ed9a4ef5497d49924e",
       "version_major": 2,
       "version_minor": 0
      },
      "text/plain": [
       "Downloading:   0%|          | 0.00/473 [00:00<?, ?B/s]"
      ]
     },
     "metadata": {},
     "output_type": "display_data"
    },
    {
     "data": {
      "application/vnd.jupyter.widget-view+json": {
       "model_id": "d753fe0e3af64b169f37bec1328ac054",
       "version_major": 2,
       "version_minor": 0
      },
      "text/plain": [
       "Downloading:   0%|          | 0.00/249M [00:00<?, ?B/s]"
      ]
     },
     "metadata": {},
     "output_type": "display_data"
    },
    {
     "data": {
      "application/vnd.jupyter.widget-view+json": {
       "model_id": "59029140e8aa4aa0a8dab335b1fe5ba9",
       "version_major": 2,
       "version_minor": 0
      },
      "text/plain": [
       "Downloading:   0%|          | 0.00/29.0 [00:00<?, ?B/s]"
      ]
     },
     "metadata": {},
     "output_type": "display_data"
    },
    {
     "data": {
      "application/vnd.jupyter.widget-view+json": {
       "model_id": "2dbc8453615f4886a5ae720246ad974a",
       "version_major": 2,
       "version_minor": 0
      },
      "text/plain": [
       "Downloading:   0%|          | 0.00/208k [00:00<?, ?B/s]"
      ]
     },
     "metadata": {},
     "output_type": "display_data"
    },
    {
     "data": {
      "application/vnd.jupyter.widget-view+json": {
       "model_id": "bc9eea9bc5914156b2480346e2a32013",
       "version_major": 2,
       "version_minor": 0
      },
      "text/plain": [
       "Downloading:   0%|          | 0.00/426k [00:00<?, ?B/s]"
      ]
     },
     "metadata": {},
     "output_type": "display_data"
    },
    {
     "data": {
      "text/html": [
       "<div>\n",
       "<style scoped>\n",
       "    .dataframe tbody tr th:only-of-type {\n",
       "        vertical-align: middle;\n",
       "    }\n",
       "\n",
       "    .dataframe tbody tr th {\n",
       "        vertical-align: top;\n",
       "    }\n",
       "\n",
       "    .dataframe thead th {\n",
       "        text-align: right;\n",
       "    }\n",
       "</style>\n",
       "<table border=\"1\" class=\"dataframe\">\n",
       "  <thead>\n",
       "    <tr style=\"text-align: right;\">\n",
       "      <th></th>\n",
       "      <th>score</th>\n",
       "      <th>start</th>\n",
       "      <th>end</th>\n",
       "      <th>answer</th>\n",
       "    </tr>\n",
       "  </thead>\n",
       "  <tbody>\n",
       "    <tr>\n",
       "      <th>0</th>\n",
       "      <td>0.631291</td>\n",
       "      <td>335</td>\n",
       "      <td>358</td>\n",
       "      <td>an exchange of Megatron</td>\n",
       "    </tr>\n",
       "  </tbody>\n",
       "</table>\n",
       "</div>"
      ],
      "text/plain": [
       "      score  start  end                   answer\n",
       "0  0.631291    335  358  an exchange of Megatron"
      ]
     },
     "execution_count": 6,
     "metadata": {},
     "output_type": "execute_result"
    }
   ],
   "source": [
    "reader = pipeline(\"question-answering\")\n",
    "question = \"What does the customer want?\"\n",
    "outputs = reader(question=question, context=text)\n",
    "pd.DataFrame([outputs])    "
   ]
  },
  {
   "cell_type": "markdown",
   "metadata": {},
   "source": [
    "### Summarization"
   ]
  },
  {
   "cell_type": "code",
   "execution_count": 7,
   "metadata": {},
   "outputs": [
    {
     "name": "stderr",
     "output_type": "stream",
     "text": [
      "No model was supplied, defaulted to sshleifer/distilbart-cnn-12-6 (https://huggingface.co/sshleifer/distilbart-cnn-12-6)\n"
     ]
    },
    {
     "data": {
      "application/vnd.jupyter.widget-view+json": {
       "model_id": "9065f416cc394abd9f8e0c9bd04a9eb4",
       "version_major": 2,
       "version_minor": 0
      },
      "text/plain": [
       "Downloading:   0%|          | 0.00/1.76k [00:00<?, ?B/s]"
      ]
     },
     "metadata": {},
     "output_type": "display_data"
    },
    {
     "data": {
      "application/vnd.jupyter.widget-view+json": {
       "model_id": "02305aa794a7495bb54ebf2e2aac8236",
       "version_major": 2,
       "version_minor": 0
      },
      "text/plain": [
       "Downloading:   0%|          | 0.00/1.14G [00:00<?, ?B/s]"
      ]
     },
     "metadata": {},
     "output_type": "display_data"
    },
    {
     "data": {
      "application/vnd.jupyter.widget-view+json": {
       "model_id": "5f63a6726c1a41e3bb661673f0d70cf6",
       "version_major": 2,
       "version_minor": 0
      },
      "text/plain": [
       "Downloading:   0%|          | 0.00/26.0 [00:00<?, ?B/s]"
      ]
     },
     "metadata": {},
     "output_type": "display_data"
    },
    {
     "data": {
      "application/vnd.jupyter.widget-view+json": {
       "model_id": "a3724383ae2c495ebc39d4babd094489",
       "version_major": 2,
       "version_minor": 0
      },
      "text/plain": [
       "Downloading:   0%|          | 0.00/878k [00:00<?, ?B/s]"
      ]
     },
     "metadata": {},
     "output_type": "display_data"
    },
    {
     "data": {
      "application/vnd.jupyter.widget-view+json": {
       "model_id": "778f5b8db0814763ada76cd498f9a631",
       "version_major": 2,
       "version_minor": 0
      },
      "text/plain": [
       "Downloading:   0%|          | 0.00/446k [00:00<?, ?B/s]"
      ]
     },
     "metadata": {},
     "output_type": "display_data"
    },
    {
     "name": "stdout",
     "output_type": "stream",
     "text": [
      " Bumblebee ordered an Optimus Prime action figure from your online store in Germany. Unfortunately, when I opened the package, I discovered to my horror that I had been sent an action figure of Megatron instead.\n"
     ]
    }
   ],
   "source": [
    "summarizer = pipeline(\"summarization\")\n",
    "outputs = summarizer(text, max_length=45, clean_up_tokenization_spaces=True)\n",
    "print(outputs[0]['summary_text'])"
   ]
  },
  {
   "cell_type": "markdown",
   "metadata": {},
   "source": [
    "### Translation"
   ]
  },
  {
   "cell_type": "code",
   "execution_count": 8,
   "metadata": {},
   "outputs": [
    {
     "data": {
      "application/vnd.jupyter.widget-view+json": {
       "model_id": "1cba9c731aa342f38e363aac65ae0ee2",
       "version_major": 2,
       "version_minor": 0
      },
      "text/plain": [
       "Downloading:   0%|          | 0.00/1.30k [00:00<?, ?B/s]"
      ]
     },
     "metadata": {},
     "output_type": "display_data"
    },
    {
     "data": {
      "application/vnd.jupyter.widget-view+json": {
       "model_id": "67f5f3076e924a2aa4580d3435bdd48e",
       "version_major": 2,
       "version_minor": 0
      },
      "text/plain": [
       "Downloading:   0%|          | 0.00/284M [00:00<?, ?B/s]"
      ]
     },
     "metadata": {},
     "output_type": "display_data"
    },
    {
     "data": {
      "application/vnd.jupyter.widget-view+json": {
       "model_id": "4e72ca36271c4706959752d7816598f9",
       "version_major": 2,
       "version_minor": 0
      },
      "text/plain": [
       "Downloading:   0%|          | 0.00/42.0 [00:00<?, ?B/s]"
      ]
     },
     "metadata": {},
     "output_type": "display_data"
    },
    {
     "data": {
      "application/vnd.jupyter.widget-view+json": {
       "model_id": "6d856a7e7eba4642b7c8494314475bea",
       "version_major": 2,
       "version_minor": 0
      },
      "text/plain": [
       "Downloading:   0%|          | 0.00/750k [00:00<?, ?B/s]"
      ]
     },
     "metadata": {},
     "output_type": "display_data"
    },
    {
     "data": {
      "application/vnd.jupyter.widget-view+json": {
       "model_id": "b3a48bda941b4f84852690ef14b51fd6",
       "version_major": 2,
       "version_minor": 0
      },
      "text/plain": [
       "Downloading:   0%|          | 0.00/778k [00:00<?, ?B/s]"
      ]
     },
     "metadata": {},
     "output_type": "display_data"
    },
    {
     "data": {
      "application/vnd.jupyter.widget-view+json": {
       "model_id": "15f1fa338c4545f0a667e45522cce8b5",
       "version_major": 2,
       "version_minor": 0
      },
      "text/plain": [
       "Downloading:   0%|          | 0.00/1.21M [00:00<?, ?B/s]"
      ]
     },
     "metadata": {},
     "output_type": "display_data"
    },
    {
     "name": "stdout",
     "output_type": "stream",
     "text": [
      "Sehr geehrter Amazon, letzte Woche habe ich eine Optimus Prime Action Figur aus Ihrem Online-Shop in Deutschland bestellt. Leider, als ich das Paket öffnete, entdeckte ich zu meinem Entsetzen, dass ich stattdessen eine Action Figur von Megatron geschickt worden war! Als lebenslanger Feind der Decepticons, Ich hoffe, Sie können mein Dilemma verstehen. Um das Problem zu lösen, Ich fordere einen Austausch von Megatron für die Optimus Prime Figur habe ich bestellt. Anbei sind Kopien meiner Aufzeichnungen über diesen Kauf. Ich erwarte, bald von Ihnen zu hören. Aufrichtig, Bumblebee.\n"
     ]
    }
   ],
   "source": [
    "translator = pipeline(\"translation_en_to_de\", \n",
    "                      model=\"Helsinki-NLP/opus-mt-en-de\")\n",
    "outputs = translator(text, clean_up_tokenization_spaces=True, min_length=100)\n",
    "print(outputs[0]['translation_text'])"
   ]
  },
  {
   "cell_type": "markdown",
   "metadata": {},
   "source": [
    "### Text Generation"
   ]
  },
  {
   "cell_type": "code",
   "execution_count": 9,
   "metadata": {},
   "outputs": [],
   "source": [
    "#hide\n",
    "from transformers import set_seed\n",
    "set_seed(42) # Set the seed to get reproducible results"
   ]
  },
  {
   "cell_type": "code",
   "execution_count": 10,
   "metadata": {},
   "outputs": [
    {
     "name": "stderr",
     "output_type": "stream",
     "text": [
      "No model was supplied, defaulted to gpt2 (https://huggingface.co/gpt2)\n"
     ]
    },
    {
     "data": {
      "application/vnd.jupyter.widget-view+json": {
       "model_id": "82f39896a30e41ea8fdabfeea85016a6",
       "version_major": 2,
       "version_minor": 0
      },
      "text/plain": [
       "Downloading:   0%|          | 0.00/665 [00:00<?, ?B/s]"
      ]
     },
     "metadata": {},
     "output_type": "display_data"
    },
    {
     "data": {
      "application/vnd.jupyter.widget-view+json": {
       "model_id": "93a57235bd2845329cb36fd138450dc6",
       "version_major": 2,
       "version_minor": 0
      },
      "text/plain": [
       "Downloading:   0%|          | 0.00/523M [00:00<?, ?B/s]"
      ]
     },
     "metadata": {},
     "output_type": "display_data"
    },
    {
     "data": {
      "application/vnd.jupyter.widget-view+json": {
       "model_id": "563871c145ee40c39617184a071bd702",
       "version_major": 2,
       "version_minor": 0
      },
      "text/plain": [
       "Downloading:   0%|          | 0.00/0.99M [00:00<?, ?B/s]"
      ]
     },
     "metadata": {},
     "output_type": "display_data"
    },
    {
     "data": {
      "application/vnd.jupyter.widget-view+json": {
       "model_id": "5d86a58a3f8a491eab74631b500fcc8a",
       "version_major": 2,
       "version_minor": 0
      },
      "text/plain": [
       "Downloading:   0%|          | 0.00/446k [00:00<?, ?B/s]"
      ]
     },
     "metadata": {},
     "output_type": "display_data"
    },
    {
     "data": {
      "application/vnd.jupyter.widget-view+json": {
       "model_id": "d29cd4b45cfd422db5e85b22492dddcf",
       "version_major": 2,
       "version_minor": 0
      },
      "text/plain": [
       "Downloading:   0%|          | 0.00/1.29M [00:00<?, ?B/s]"
      ]
     },
     "metadata": {},
     "output_type": "display_data"
    },
    {
     "name": "stderr",
     "output_type": "stream",
     "text": [
      "Setting `pad_token_id` to `eos_token_id`:50256 for open-end generation.\n"
     ]
    },
    {
     "name": "stdout",
     "output_type": "stream",
     "text": [
      "Dear Amazon, last week I ordered an Optimus Prime action figure from your online store in Germany. Unfortunately, when I opened the package, I discovered to my horror that I had been sent an action figure of Megatron instead! As a lifelong enemy of the Decepticons, I hope you can understand my dilemma. To resolve the issue, I demand an exchange of Megatron for the Optimus Prime figure I ordered. Enclosed are copies of my records concerning this purchase. I expect to hear from you soon. Sincerely, Bumblebee.\n",
      "\n",
      "Customer service response:\n",
      "Dear Bumblebee, I am sorry to hear that your order was mixed up. I understand you would love to have an Optimus Prime action figure from your online store. However, you will need to wait a couple of days before this option is available to you. Once I received the email I decided to give this a go. You have no problem shipping to me, will I be able to ship it in a timely\n"
     ]
    }
   ],
   "source": [
    "generator = pipeline(\"text-generation\")\n",
    "response = \"Dear Bumblebee, I am sorry to hear that your order was mixed up.\"\n",
    "prompt = text + \"\\n\\nCustomer service response:\\n\" + response\n",
    "outputs = generator(prompt, max_length=200)\n",
    "print(outputs[0]['generated_text'])"
   ]
  },
  {
   "cell_type": "markdown",
   "metadata": {},
   "source": [
    "## The Hugging Face Ecosystem"
   ]
  },
  {
   "cell_type": "markdown",
   "metadata": {},
   "source": [
    "### The Hugging Face Hub"
   ]
  },
  {
   "cell_type": "markdown",
   "metadata": {},
   "source": [
    "### Hugging Face Tokenizers"
   ]
  },
  {
   "cell_type": "markdown",
   "metadata": {},
   "source": [
    "### Hugging Face Datasets"
   ]
  },
  {
   "cell_type": "markdown",
   "metadata": {},
   "source": [
    "### Hugging Face Accelerate"
   ]
  },
  {
   "cell_type": "markdown",
   "metadata": {},
   "source": [
    "## Main Challenges with Transformers"
   ]
  },
  {
   "cell_type": "markdown",
   "metadata": {},
   "source": [
    "## Conclusion"
   ]
  },
  {
   "cell_type": "code",
   "execution_count": null,
   "metadata": {},
   "outputs": [],
   "source": []
  }
 ],
 "metadata": {
  "kernelspec": {
   "display_name": "conda_pytorch_p37",
   "language": "python",
   "name": "conda_pytorch_p37"
  },
  "language_info": {
   "codemirror_mode": {
    "name": "ipython",
    "version": 3
   },
   "file_extension": ".py",
   "mimetype": "text/x-python",
   "name": "python",
   "nbconvert_exporter": "python",
   "pygments_lexer": "ipython3",
   "version": "3.7.10"
  }
 },
 "nbformat": 4,
 "nbformat_minor": 4
}
